{
 "cells": [
  {
   "cell_type": "markdown",
   "metadata": {},
   "source": [
    "# Neural solver for the 3D Poisson PDE\n",
    "\n",
    "## Introduction\n",
    "\n",
    "In this tutorial, we demonstrate the use of `rmldnn` as a **neural PDE solver**. \n",
    "The idea is to train a (deep) neural network to learn complex non-linear relationships between inputs and\n",
    "outputs in a given domain, while minimizing a loss function that represents the residual of the PDE and\n",
    "its boundary conditions. Once trained, these networks can then be used as fast surrogate models that provide\n",
    "full-field solutions to PDEs at much lower costs compared to traditional numerical methods (e.g., finite elements).\n",
    "We will demonstrate the use of `rmldnn` to solve the homogeuneous Poisson equation in 3D.\n"
   ]
  },
  {
   "cell_type": "markdown",
   "metadata": {},
   "source": [
    "## The Poisson equation\n",
    "The Poisson equation for the scalar field $u({\\bf x})$ can be written as\n",
    "\n",
    "$$\n",
    "-\\nabla \\cdot (\\nu({\\bf x}) \\nabla u({\\bf x})) = f({\\bf x}) \\textrm{ in } D,\n",
    "$$\n",
    "\n",
    "where $\\nu({\\bf x})$ represents the *diffusivity* (or *permeability*) of the medium. Without loss of generality, we consider the homogeneous case where $f({\\bf x}) = 0$, and impose the following boundary conditions assuming that $D$ is the unit cube:\n",
    "\n",
    "\\begin{cases}\n",
    " & u(0, y, z) = 1, \\\\\n",
    " & u(1, y, z) = 0, \\\\\n",
    " & \\frac{\\partial u}{\\partial n} = 0 \\textrm{ on other boundaries }\n",
    "\\end{cases}\n",
    "\n",
    "The diffusivity map $\\nu({\\bf x})$ can be any function and, in the scheme of the neural solver, constitutes the input to the neural network. The output of the network will be the solution $u({\\bf x})$ to the Poisson PDE."
   ]
  },
  {
   "cell_type": "markdown",
   "metadata": {},
   "source": [
    "## Neural network\n",
    "\n",
    "For our surrogate model, we choose a fully convolutional neural network $G_{nn}$, which has the convenient property of being agnostic to the data size, \n",
    "since the filter weights for a convolution operation do not depend on the input resolution. In particular, we will use a standard 3D U-Net architecture:\n",
    " \n",
    "<img src=\"./figures/Unet3D.png\" width=\"40%\" style=\"margin-left:auto; margin-right:auto\">,
    "\n",
    "\n",
    "A trained U-Net can take a full-field representing the material diffusivity (or forcing function) as input and map it to the full-field solution. In the schematic below,\n",
    "we show a trained surrogate model $G_{nn}$ in 2D, which takes a matrix $S^d$ (numerical version of $\\nu(x)$) as input and maps it to another \n",
    "matrix $U^d$ (approximate solution $u(x)$):\n",
    "\n",
    "<img><img src=\"./figures/neural_solver.png\" width=\"400\" align=\"center\"></img>\n"
   ]
  },
  {
   "cell_type": "markdown",
   "metadata": {},
   "source": [
    "## Loss function\n",
    "\n",
    "We need to formulate a loss function that encapsulates the residual of the PDE and its boundary conditions. When the neural network is trained and this\n",
    "function is minimized, we will have created a surrogate model capable of producing a full-field solution $u(x)$ that satisfies the PDE given a difusivity $\\nu(x)$.\n",
    "\n",
    "To that end, we formulate the loss function as the finite-element form of the PDE residual. By applying the standard Galerkin method, we end up with an\n",
    "energy functional $L(x, \\theta)$ that accounts for the PDE and its boundary conditions, and serves as our loss function:\n",
    "\n",
    "$$\n",
    "L(\\theta) = {1 \\over N_s} \\sum_{j=1}^{N_s} \\int \\nu_j(x) |\\nabla u_j(x, \\theta)|^2 dx ,\n",
    "$$\n",
    "\n",
    "where $u_j = G_{nn}(\\nu_j, \\theta)$ is the desired PDE solution corresponding to the $j^{\\rm th}$ sample of the diffusivity."
   ]
  },
  {
   "cell_type": "markdown",
   "metadata": {},
   "source": [
    "To be continued..."
   ]
  }
 ],
 "metadata": {
  "kernelspec": {
   "display_name": "Python 3",
   "language": "python",
   "name": "python3"
  },
  "language_info": {
   "codemirror_mode": {
    "name": "ipython",
    "version": 3
   },
   "file_extension": ".py",
   "mimetype": "text/x-python",
   "name": "python",
   "nbconvert_exporter": "python",
   "pygments_lexer": "ipython3",
   "version": "3.7.9"
  }
 },
 "nbformat": 4,
 "nbformat_minor": 4
}
